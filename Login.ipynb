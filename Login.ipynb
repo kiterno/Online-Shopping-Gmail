{
 "cells": [
  {
   "cell_type": "code",
   "execution_count": 5,
   "metadata": {
    "collapsed": false
   },
   "outputs": [],
   "source": [
    "class Get_id_Password():\n",
    "    def get_id_password(self,inp):\n",
    "        inp = inp+\".txt\"\n",
    "        f=open(inp,\"r\")\n",
    "        content=f.read()\n",
    "        content = [i for i in content.split()]\n",
    "        mail = content[0]\n",
    "        password = content[1]\n",
    "        return (mail,password)"
   ]
  },
  {
   "cell_type": "code",
   "execution_count": 6,
   "metadata": {
    "collapsed": false
   },
   "outputs": [],
   "source": [
    "import numpy as np\n",
    "import imaplib,email,os,getpass\n",
    "import datetime\n",
    "class Login():\n",
    "    unm=''\n",
    "    pwd=''\n",
    "    \n",
    "    #Function to return the body of any message\n",
    "    def get_body(self,msg):\n",
    "        if msg.is_multipart():\n",
    "            return Login().get_body(msg.get_payload(0))\n",
    "        else:\n",
    "            return msg.get_payload(None,True)\n",
    "    \n",
    "    #Function to login to gmail and read messages one by one\n",
    "    def login(self,email_id):\n",
    "        mserver = imaplib.IMAP4_SSL('imap.gmail.com',993)\n",
    "        unm,pwd = Get_id_Password().get_id_password(email_id)\n",
    "        try:\n",
    "            mserver.login(unm,pwd)\n",
    "        except:\n",
    "            print(\"The password is incorrect\")\n",
    "            exit(0)\n",
    "        mserver.login(unm,pwd)\n",
    "        #print(mservr.list())  #\\\\ What the mservr contains like inbox, all_mails\n",
    "\n",
    "        stat,cnt = mservr.select('INBOX')\n",
    "        stat,dta = mservr.search(None, \"All\")\n",
    "        dta = dta[0].split()\n",
    "        #print(dta)  #// dta contains all the locations of inbox messages in byte format \n",
    "        \n",
    "        dta = dta[::-1]\n",
    "        #print(dta)\n",
    "        \n",
    "        #Find todays date\n",
    "        present_date = str(datetime.datetime.now())\n",
    "        present_date = [i for i in present_date.split()]\n",
    "        set_date = Get_Set_Date().get_date(present_date[0])\n",
    "        #print('dheeru', ' ',present_date[0])\n",
    "        #print(set_date)\n",
    "        arr = []\n",
    "        #create set of sites\n",
    "        sites = Find_Details().get_sites()\n",
    "        \n",
    "        for i in dta:\n",
    "\n",
    "            resp, mail = mservr.fetch(i,'(RFC822)')\n",
    "            email_body = mail[0][1]\n",
    "            get_mail = email.message_from_bytes(email_body)\n",
    "            From = get_mail[\"From\"]\n",
    "            # The message of mail or the complete information about message\n",
    "            #print(get_mail[\"Date\"])\n",
    "            date_of_message = get_mail[\"Date\"].split()\n",
    "            #print(date_of_message)\n",
    "            mail_date = [date_of_message[1],date_of_message[2],date_of_message[3]]\n",
    "            \n",
    "            \n",
    "            get_details = Find_Details().details(present_date[0],mail_date,get_mail,sites,set_date)\n",
    "            if(get_details=='1'):\n",
    "                break\n",
    "            arr.append(get_details)\n",
    "            \n",
    "            #print(\"DheeruBhai\")\n",
    "            #print(get_mail[\"From\"],':',get_mail[\"To\"])\n",
    "            #print(get_mail[\"Subject\"])\n",
    "            #print(\"YEH\",Login().get_body(get_mail))\n",
    "        mservr.close()\n",
    "        mservr.logout()"
   ]
  },
  {
   "cell_type": "code",
   "execution_count": 7,
   "metadata": {
    "collapsed": false
   },
   "outputs": [],
   "source": [
    "class Find_Details():\n",
    "    #pr_month=''\n",
    "    #pr_date=''\n",
    "    def get_sites(self):\n",
    "        f = open('ShoppingSites.txt',\"r\")\n",
    "        content=f.read()\n",
    "        sites = set(content.split())\n",
    "        return sites\n",
    "        \n",
    "    def details(self,present_date,mail_date,get_mail,sites,set_date):\n",
    "        \n",
    "        pr_year,pr_month,pr_date=present_date.split('-')\n",
    "        mail_date,mail_month,mail_year=mail_date\n",
    "        #print(pr_year,pr_month,pr_date)\n",
    "        #print(mail_date)\n",
    "        days = [31,28,31,30,31,30,31,31,30,31,30,31]\n",
    "        months = ['jan','feb','march','apr','may','jun','jul','aug','sept','oct','nov','dec']\n",
    "        mail_month = mail_month.lower()\n",
    "        mail_month = months.index(mail_month.lower())+1\n",
    "        mail_date = int(mail_date)\n",
    "        mail_month=int(mail_month)\n",
    "        date_of_mail = str(mail_date)+\"-\"+str(mail_month)+\"-\"+str(mail_year)\n",
    "        \n",
    "        if(date_of_mail in set_date):\n",
    "            st = Track().track(get_mail,sites)\n",
    "            \n",
    "        else:\n",
    "            return '1'\n",
    "        #print(\"dateofmail\",date_of_mail)\n",
    "        #print(sites)\n",
    "        #print(get_mail[\"From\"])\n",
    "        return get_mail[\"From\"]"
   ]
  },
  {
   "cell_type": "code",
   "execution_count": 8,
   "metadata": {
    "collapsed": true
   },
   "outputs": [],
   "source": [
    "class Track():\n",
    "    def track(self,get_mail,sites):\n",
    "        From = get_mail[\"From\"]\n",
    "        From = From.split()[0].lower()\n",
    "        From = From.split('.')[0]\n",
    "        if From in sites:\n",
    "            message_body = Track().get_body(get_mail)\n",
    "            message_body = message_body.lower()\n",
    "            \n",
    "        else:\n",
    "            print(\"NO\")\n",
    "            \n",
    "    def get_body(self,msg):\n",
    "        if msg.is_multipart():\n",
    "            return Track().get_body(msg.get_payload(0))\n",
    "        else:\n",
    "            return msg.get_payload(None,True)"
   ]
  },
  {
   "cell_type": "code",
   "execution_count": 9,
   "metadata": {
    "collapsed": true
   },
   "outputs": [],
   "source": [
    "class Get_Set_Date():\n",
    "    def get_date(self,present_date):\n",
    "        year,month,date=present_date.split('-')\n",
    "        set_date=set([])\n",
    "        date=int(date)\n",
    "        month=int(month)\n",
    "        year=int(year)\n",
    "        days = [31,28,31,30,31,30,31,31,30,31,30,31]\n",
    "        for i in range(31):\n",
    "            st=str(date)+'-'+str(month)+'-'+str(year)\n",
    "            if(date>1):\n",
    "                date=date-1\n",
    "            elif date==1:\n",
    "                if month==1:\n",
    "                    year=year-1\n",
    "                    month=12\n",
    "                else:\n",
    "                    month=month-1\n",
    "                date=days[month-1]\n",
    "            set_date.add(st)\n",
    "        return set_date\n",
    "            "
   ]
  },
  {
   "cell_type": "code",
   "execution_count": 10,
   "metadata": {
    "collapsed": false
   },
   "outputs": [
    {
     "ename": "error",
     "evalue": "command LOGIN illegal in state AUTH, only allowed in states NONAUTH",
     "output_type": "error",
     "traceback": [
      "\u001b[0;31m---------------------------------------------------------------------\u001b[0m",
      "\u001b[0;31merror\u001b[0m                               Traceback (most recent call last)",
      "\u001b[0;32m<ipython-input-10-1b028e38dc79>\u001b[0m in \u001b[0;36m<module>\u001b[0;34m()\u001b[0m\n\u001b[1;32m      1\u001b[0m \u001b[0ma\u001b[0m \u001b[1;33m=\u001b[0m \u001b[0mLogin\u001b[0m\u001b[1;33m(\u001b[0m\u001b[1;33m)\u001b[0m\u001b[1;33m\u001b[0m\u001b[0m\n\u001b[0;32m----> 2\u001b[0;31m \u001b[0ma\u001b[0m\u001b[1;33m.\u001b[0m\u001b[0mlogin\u001b[0m\u001b[1;33m(\u001b[0m\u001b[1;34m'sample'\u001b[0m\u001b[1;33m)\u001b[0m\u001b[1;33m\u001b[0m\u001b[0m\n\u001b[0m",
      "\u001b[0;32m<ipython-input-6-ebe9e51906e8>\u001b[0m in \u001b[0;36mlogin\u001b[0;34m(self, email_id)\u001b[0m\n\u001b[1;32m     22\u001b[0m             \u001b[0mprint\u001b[0m\u001b[1;33m(\u001b[0m\u001b[1;34m\"The password is incorrect\"\u001b[0m\u001b[1;33m)\u001b[0m\u001b[1;33m\u001b[0m\u001b[0m\n\u001b[1;32m     23\u001b[0m             \u001b[0mexit\u001b[0m\u001b[1;33m(\u001b[0m\u001b[1;36m0\u001b[0m\u001b[1;33m)\u001b[0m\u001b[1;33m\u001b[0m\u001b[0m\n\u001b[0;32m---> 24\u001b[0;31m         \u001b[0mmserver\u001b[0m\u001b[1;33m.\u001b[0m\u001b[0mlogin\u001b[0m\u001b[1;33m(\u001b[0m\u001b[0munm\u001b[0m\u001b[1;33m,\u001b[0m\u001b[0mpwd\u001b[0m\u001b[1;33m)\u001b[0m\u001b[1;33m\u001b[0m\u001b[0m\n\u001b[0m\u001b[1;32m     25\u001b[0m         \u001b[1;31m#print(mservr.list())  #\\\\ What the mservr contains like inbox, all_mails\u001b[0m\u001b[1;33m\u001b[0m\u001b[1;33m\u001b[0m\u001b[0m\n\u001b[1;32m     26\u001b[0m \u001b[1;33m\u001b[0m\u001b[0m\n",
      "\u001b[0;32mC:\\Users\\pcs\\Anaconda3\\lib\\imaplib.py\u001b[0m in \u001b[0;36mlogin\u001b[0;34m(self, user, password)\u001b[0m\n\u001b[1;32m    586\u001b[0m         \u001b[0mNB\u001b[0m\u001b[1;33m:\u001b[0m \u001b[1;34m'password'\u001b[0m \u001b[0mwill\u001b[0m \u001b[0mbe\u001b[0m \u001b[0mquoted\u001b[0m\u001b[1;33m.\u001b[0m\u001b[1;33m\u001b[0m\u001b[0m\n\u001b[1;32m    587\u001b[0m         \"\"\"\n\u001b[0;32m--> 588\u001b[0;31m         \u001b[0mtyp\u001b[0m\u001b[1;33m,\u001b[0m \u001b[0mdat\u001b[0m \u001b[1;33m=\u001b[0m \u001b[0mself\u001b[0m\u001b[1;33m.\u001b[0m\u001b[0m_simple_command\u001b[0m\u001b[1;33m(\u001b[0m\u001b[1;34m'LOGIN'\u001b[0m\u001b[1;33m,\u001b[0m \u001b[0muser\u001b[0m\u001b[1;33m,\u001b[0m \u001b[0mself\u001b[0m\u001b[1;33m.\u001b[0m\u001b[0m_quote\u001b[0m\u001b[1;33m(\u001b[0m\u001b[0mpassword\u001b[0m\u001b[1;33m)\u001b[0m\u001b[1;33m)\u001b[0m\u001b[1;33m\u001b[0m\u001b[0m\n\u001b[0m\u001b[1;32m    589\u001b[0m         \u001b[1;32mif\u001b[0m \u001b[0mtyp\u001b[0m \u001b[1;33m!=\u001b[0m \u001b[1;34m'OK'\u001b[0m\u001b[1;33m:\u001b[0m\u001b[1;33m\u001b[0m\u001b[0m\n\u001b[1;32m    590\u001b[0m             \u001b[1;32mraise\u001b[0m \u001b[0mself\u001b[0m\u001b[1;33m.\u001b[0m\u001b[0merror\u001b[0m\u001b[1;33m(\u001b[0m\u001b[0mdat\u001b[0m\u001b[1;33m[\u001b[0m\u001b[1;33m-\u001b[0m\u001b[1;36m1\u001b[0m\u001b[1;33m]\u001b[0m\u001b[1;33m)\u001b[0m\u001b[1;33m\u001b[0m\u001b[0m\n",
      "\u001b[0;32mC:\\Users\\pcs\\Anaconda3\\lib\\imaplib.py\u001b[0m in \u001b[0;36m_simple_command\u001b[0;34m(self, name, *args)\u001b[0m\n\u001b[1;32m   1186\u001b[0m     \u001b[1;32mdef\u001b[0m \u001b[0m_simple_command\u001b[0m\u001b[1;33m(\u001b[0m\u001b[0mself\u001b[0m\u001b[1;33m,\u001b[0m \u001b[0mname\u001b[0m\u001b[1;33m,\u001b[0m \u001b[1;33m*\u001b[0m\u001b[0margs\u001b[0m\u001b[1;33m)\u001b[0m\u001b[1;33m:\u001b[0m\u001b[1;33m\u001b[0m\u001b[0m\n\u001b[1;32m   1187\u001b[0m \u001b[1;33m\u001b[0m\u001b[0m\n\u001b[0;32m-> 1188\u001b[0;31m         \u001b[1;32mreturn\u001b[0m \u001b[0mself\u001b[0m\u001b[1;33m.\u001b[0m\u001b[0m_command_complete\u001b[0m\u001b[1;33m(\u001b[0m\u001b[0mname\u001b[0m\u001b[1;33m,\u001b[0m \u001b[0mself\u001b[0m\u001b[1;33m.\u001b[0m\u001b[0m_command\u001b[0m\u001b[1;33m(\u001b[0m\u001b[0mname\u001b[0m\u001b[1;33m,\u001b[0m \u001b[1;33m*\u001b[0m\u001b[0margs\u001b[0m\u001b[1;33m)\u001b[0m\u001b[1;33m)\u001b[0m\u001b[1;33m\u001b[0m\u001b[0m\n\u001b[0m\u001b[1;32m   1189\u001b[0m \u001b[1;33m\u001b[0m\u001b[0m\n\u001b[1;32m   1190\u001b[0m \u001b[1;33m\u001b[0m\u001b[0m\n",
      "\u001b[0;32mC:\\Users\\pcs\\Anaconda3\\lib\\imaplib.py\u001b[0m in \u001b[0;36m_command\u001b[0;34m(self, name, *args)\u001b[0m\n\u001b[1;32m    934\u001b[0m                              \u001b[1;34m\"only allowed in states %s\"\u001b[0m \u001b[1;33m%\u001b[0m\u001b[1;33m\u001b[0m\u001b[0m\n\u001b[1;32m    935\u001b[0m                              (name, self.state,\n\u001b[0;32m--> 936\u001b[0;31m                               ', '.join(Commands[name])))\n\u001b[0m\u001b[1;32m    937\u001b[0m \u001b[1;33m\u001b[0m\u001b[0m\n\u001b[1;32m    938\u001b[0m         \u001b[1;32mfor\u001b[0m \u001b[0mtyp\u001b[0m \u001b[1;32min\u001b[0m \u001b[1;33m(\u001b[0m\u001b[1;34m'OK'\u001b[0m\u001b[1;33m,\u001b[0m \u001b[1;34m'NO'\u001b[0m\u001b[1;33m,\u001b[0m \u001b[1;34m'BAD'\u001b[0m\u001b[1;33m)\u001b[0m\u001b[1;33m:\u001b[0m\u001b[1;33m\u001b[0m\u001b[0m\n",
      "\u001b[0;31merror\u001b[0m: command LOGIN illegal in state AUTH, only allowed in states NONAUTH"
     ]
    }
   ],
   "source": [
    "a = Login()\n",
    "a.login('sample')"
   ]
  },
  {
   "cell_type": "code",
   "execution_count": null,
   "metadata": {
    "collapsed": true
   },
   "outputs": [],
   "source": []
  }
 ],
 "metadata": {
  "kernelspec": {
   "display_name": "Python 3",
   "language": "python",
   "name": "python3"
  },
  "language_info": {
   "codemirror_mode": {
    "name": "ipython",
    "version": 3
   },
   "file_extension": ".py",
   "mimetype": "text/x-python",
   "name": "python",
   "nbconvert_exporter": "python",
   "pygments_lexer": "ipython3",
   "version": "3.6.0"
  }
 },
 "nbformat": 4,
 "nbformat_minor": 2
}
